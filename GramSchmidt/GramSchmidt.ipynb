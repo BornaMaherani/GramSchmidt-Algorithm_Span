{
 "cells": [
  {
   "cell_type": "markdown",
   "metadata": {},
   "source": [
    "Question 1. By Borna Maherani\n",
    "ID = 401243079"
   ]
  },
  {
   "cell_type": "markdown",
   "metadata": {},
   "source": [
    "<h1>Initializing n,m and Linearly indipendent vectors</h1>\n",
    "درین بخش اول مقادیر ان و ام را گرفته و به تعداد ام بار هر بردار را در یک خط ورودی گرفته و بعد از ورودی گرفتن بردار جدید به مقایشه رنک ها می پردازیم.\n",
    "از آنجایی که بردار ها مستقل خطی میباشند اگر رنک ماتریس بردار ها با رنک ماتریس بردار های جدید یکسان باشد به این معنی میباشد که بردار جدید ما مستقل خطی نسبت به بردار های توصیف کننده فضا نمیباشد و پایه های غیر متغامد و غیر یکه ما همان بردار های اولیه میباشد. در غیر این صورت پایه های ما بردار های قبلی به علاوه بردار جدید میباشد. "
   ]
  },
  {
   "cell_type": "code",
   "execution_count": 5,
   "metadata": {},
   "outputs": [
    {
     "ename": "ValueError",
     "evalue": "invalid literal for int() with base 10: ''",
     "output_type": "error",
     "traceback": [
      "\u001b[0;31m---------------------------------------------------------------------------\u001b[0m",
      "\u001b[0;31mValueError\u001b[0m                                Traceback (most recent call last)",
      "Cell \u001b[0;32mIn[5], line 2\u001b[0m\n\u001b[1;32m      1\u001b[0m \u001b[38;5;28;01mimport\u001b[39;00m \u001b[38;5;21;01mnumpy\u001b[39;00m \u001b[38;5;28;01mas\u001b[39;00m \u001b[38;5;21;01mnp\u001b[39;00m\n\u001b[0;32m----> 2\u001b[0m n \u001b[38;5;241m=\u001b[39m \u001b[38;5;28;43mint\u001b[39;49m\u001b[43m(\u001b[49m\u001b[38;5;28;43minput\u001b[39;49m\u001b[43m(\u001b[49m\u001b[43m)\u001b[49m\u001b[43m)\u001b[49m\n\u001b[1;32m      3\u001b[0m m \u001b[38;5;241m=\u001b[39m \u001b[38;5;28mint\u001b[39m(\u001b[38;5;28minput\u001b[39m())\n\u001b[1;32m      4\u001b[0m X \u001b[38;5;241m=\u001b[39m np\u001b[38;5;241m.\u001b[39mempty((\u001b[38;5;241m0\u001b[39m,n), \u001b[38;5;28mint\u001b[39m)\n",
      "\u001b[0;31mValueError\u001b[0m: invalid literal for int() with base 10: ''"
     ]
    }
   ],
   "source": [
    "import numpy as np\n",
    "#Dimension of the space : R^n\n",
    "n = int(input())\n",
    "#number of vectors that discribe the space\n",
    "m = int(input())\n",
    "#array of vectors\n",
    "X = np.empty((0,n), int)\n",
    "#New Vector\n",
    "Xnew = np.empty((0,n) , int)\n",
    "\n",
    "\"\"\"\n",
    "geting the vectors (every input should be in a line and splited by 'space')\n",
    "example: n=4 , m=3 \n",
    "1 3 4 0\n",
    "0 0 4 9\n",
    "10 4 1 1\n",
    "\"\"\"\n",
    "\n",
    "for row in range(0,m):\n",
    "    line = input().split()\n",
    "    line = list(map(int, line))\n",
    "    X = np.append(X, np.array([line]), axis=0)\n",
    "line = input().split()\n",
    "line = list(map(int, line))\n",
    "Xnew = np.append(Xnew, np.array([line]), axis=0)\n",
    "\n",
    "#Rank of vectors(without Xnew)\n",
    "X_Rank = np.linalg.matrix_rank(X)\n",
    "\n",
    "temp = np.vstack([X,Xnew])\n",
    "#Rank of vectors + Xnew\n",
    "X_newRank = np.linalg.matrix_rank(temp)\n",
    "\n",
    "#if the newrank = rank + 1\n",
    "if(X_newRank != X_Rank):\n",
    "    #new bases are X + Xnew\n",
    "    X = temp\n",
    "    gram(X,m+1,n)\n",
    "#newrank = rank\n",
    "else:\n",
    "    gram(X,m,n)\n"
   ]
  },
  {
   "cell_type": "markdown",
   "metadata": {},
   "source": [
    "<h1>Gram-Schmidt Algorithm</h1>\n",
    "پس از مشخص شدن مجموعه بردار های پایه آنهارا با استفاده از الگوریتم گرام اشمیت اول متعامد نسبت به یکدیگر و سپس آنها را یکه میکنیم.\n"
   ]
  },
  {
   "cell_type": "code",
   "execution_count": 46,
   "metadata": {},
   "outputs": [
    {
     "name": "stdout",
     "output_type": "stream",
     "text": [
      "[[0. 1. 0.]\n",
      " [1. 0. 0.]]\n"
     ]
    }
   ],
   "source": [
    "import numpy as np\n",
    "#dot operation for two vectors\n",
    "def nDot(v1,v2,n):\n",
    "    #n is dimension of vectros\n",
    "    result = 0\n",
    "    for i in range (n):\n",
    "        result += v1[i] * v2[i]\n",
    "    return result\n",
    "\n",
    "# proj of v1 on v2\n",
    "def proj(v1,v2,n):\n",
    "    return (nDot(v1,v2,n)/nDot(v2,v2,n)) * v2\n",
    "\n",
    "#main  algorithm\n",
    "def gram(X,m,n):\n",
    "    #Bases that nor orthogonal nor unit vector\n",
    "    Base = np.empty((0,n), float)\n",
    "    for i in range (0,m):\n",
    "        lenBase = len(Base)\n",
    "        tempBase = X[i]\n",
    "        #making the vectors \n",
    "        for j in range (lenBase):\n",
    "            tempBase -= proj(X[i],Base[j],n)\n",
    "        #making the orthogonal vectors also unit vectors\n",
    "        tempBase = tempBase/np.linalg.norm(tempBase)\n",
    "        #adding the new base into bases array \n",
    "        Base = np.append(Base, np.array([tempBase]), axis=0)\n",
    "    return Base\n"
   ]
  },
  {
   "cell_type": "markdown",
   "metadata": {},
   "source": [
    "<h1>TestCases</h1>"
   ]
  },
  {
   "cell_type": "code",
   "execution_count": 51,
   "metadata": {},
   "outputs": [
    {
     "name": "stdout",
     "output_type": "stream",
     "text": [
      "[[ 0.21821789  0.          0.43643578  0.87287156]\n",
      " [ 0.57639042  0.80694658 -0.05763904 -0.11527808]\n",
      " [ 0.35157263 -0.26367947  0.76518749 -0.4704869 ]]\n",
      "[[1. 0. 0. 0.]\n",
      " [0. 1. 0. 0.]\n",
      " [0. 0. 1. 0.]]\n"
     ]
    }
   ],
   "source": [
    "A = np.array([\n",
    "    [1.,0.,2.,4.],\n",
    "    [3.,4.,0.,0.],\n",
    "    [2.,0.,3.,0.]\n",
    "])\n",
    "print(gram(A,3,4))\n",
    "A = np.array([\n",
    "    [1.,0.,0.,0.],\n",
    "    [0.,4.,0.,0.],\n",
    "    [1.,0.,3.,0.]\n",
    "])\n",
    "print(gram(A,3,4))"
   ]
  }
 ],
 "metadata": {
  "kernelspec": {
   "display_name": "Python 3",
   "language": "python",
   "name": "python3"
  },
  "language_info": {
   "codemirror_mode": {
    "name": "ipython",
    "version": 3
   },
   "file_extension": ".py",
   "mimetype": "text/x-python",
   "name": "python",
   "nbconvert_exporter": "python",
   "pygments_lexer": "ipython3",
   "version": "3.10.12"
  }
 },
 "nbformat": 4,
 "nbformat_minor": 2
}
